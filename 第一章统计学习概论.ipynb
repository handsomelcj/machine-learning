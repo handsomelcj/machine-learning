{
 "cells": [
  {
   "cell_type": "markdown",
   "metadata": {},
   "source": [
    "# 第1章  统计学习与监督学习概论\n",
    "## 1. 统计学习的分类\n",
    "### 1.1 监督学习\n",
    "  由训练资料（x，y）中建立一个模式（函数），并依此模式推测新的实例x-->y\n",
    "  \n",
    "  训练集T = {(x1, y1), (x2, y2),...,(xN, yN)}, (x, y)是输入输出对。\n",
    "  \n",
    "  假设空间：输入空间到输出空间的可能的映射组成的集合。对x进行预测时，模型有有概率模型：P（y|x)条件概率分布，决策函数y = f(x)。\n",
    "  \n",
    "### 1.2 无监督学习\n",
    "  没有给定事先标记过的训练实例（只有x），自动对输入数据x进行分类。\n",
    "  \n",
    "### 1.3 半监督学习\n",
    "  有一部分训练实例有事先标记，一部分没有。\n",
    "  \n",
    "### 1.4 强化学习\n",
    "  强调基于环境行动，以获得最大化的预期利益。"
   ]
  },
  {
   "cell_type": "markdown",
   "metadata": {},
   "source": [
    "## 2. 统计学习方法三要素\n",
    "### 2.1 模型（假设空间）\n",
    "### 2.2 策略：\n",
    "  损失函数--预测错误的程度 L(Y, f(X))，常用的有0-1，平方，绝对，对数损失函数。\n",
    "  \n",
    "  风险函数：经验风险——平均损失，风险函数最小化；\n",
    "        \n",
    "        结构风险——在经验风险的基础上加上表示模型复杂度的正则化项或罚项，以改善“过拟合”现象。"
   ]
  },
  {
   "cell_type": "code",
   "execution_count": null,
   "metadata": {},
   "outputs": [],
   "source": []
  }
 ],
 "metadata": {
  "kernelspec": {
   "display_name": "Python 3",
   "language": "python",
   "name": "python3"
  },
  "language_info": {
   "codemirror_mode": {
    "name": "ipython",
    "version": 3
   },
   "file_extension": ".py",
   "mimetype": "text/x-python",
   "name": "python",
   "nbconvert_exporter": "python",
   "pygments_lexer": "ipython3",
   "version": "3.7.6"
  }
 },
 "nbformat": 4,
 "nbformat_minor": 4
}
