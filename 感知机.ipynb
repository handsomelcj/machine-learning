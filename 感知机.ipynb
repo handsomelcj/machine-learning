{
 "cells": [
  {
   "cell_type": "markdown",
   "metadata": {},
   "source": [
    "# 自编程实现感知机模型（面向对象）"
   ]
  },
  {
   "cell_type": "code",
   "execution_count": 11,
   "metadata": {},
   "outputs": [],
   "source": [
    "import numpy as np\n",
    "import matplotlib.pyplot as plt\n",
    "\n",
    "class MyPerceptron:\n",
    "    # 构造 MyPerceptron(感知机)类\n",
    "    \n",
    "    def __init__(self):\n",
    "        #初始化数据w, b, η\n",
    "        self.w = None\n",
    "        self.b = 0\n",
    "        self.l_rate = 1                               #学习率η\n",
    "        \n",
    "    def fit(self, X_train, y_train):\n",
    "        #核心算法实现\n",
    "        self.w = np.zeros(X_train.shape[1])          #用样本点的特征数初始化w，如x1=(3,3),有两个特征，则self.w=[0,0]\n",
    "        i = 0\n",
    "        while i < X_train.shape[0]:\n",
    "            X = X_train[i]\n",
    "            y = y_train[i]\n",
    "            #print('w = {}, b = {}'.format(self.w, self.b))\n",
    "            if y*(np.dot(self.w, X) + self.b) <= 0:           #如果y(wx+b)<= 0, 说明是误判点，更新w, b\n",
    "                self.w = self.w + self.l_rate*np.dot(y, X)    # w <-- w+ηyx\n",
    "                self.b = self.b + self.l_rate*y               # b <-- b+ηy\n",
    "                i = 0                                         # 如果是误判点，则从头开始检测\n",
    "            else:\n",
    "                i += 1"
   ]
  },
  {
   "cell_type": "code",
   "execution_count": 29,
   "metadata": {},
   "outputs": [],
   "source": [
    "def draw(X_train, y_train, w, b):\n",
    "    # 数据可视化\n",
    "    x1 = X_train[: , 0]\n",
    "    x2 = X_train[: , 1]\n",
    "    plt.scatter(x1, x2, c=y_train, cmap='viridis')\n",
    "    plt.plot(x1, (-w[0]*x1-b)/w[1], c='r')                #曲线是w1x1+w2x2+b = 0, 所以纵坐标x2就可以表示\n",
    "    #只能画到这种程度了，尚未解决的问题：怎么根据y的不同变换点的形状"
   ]
  },
  {
   "cell_type": "code",
   "execution_count": 30,
   "metadata": {},
   "outputs": [],
   "source": [
    "def main():\n",
    "    X_train = np.array([[3, 3], [4, 3], [1, 1]])\n",
    "    y_train = np.array([1, 1, -1])                           #构建训练数据集\n",
    "    \n",
    "    perceptron = MyPerceptron()\n",
    "    perceptron.fit(X_train, y_train)                         #构建感知机对象，对数据集继续训练\n",
    "    \n",
    "    draw(X_train, y_train, perceptron.w, perceptron.b)                #结果图像绘制"
   ]
  },
  {
   "cell_type": "code",
   "execution_count": 31,
   "metadata": {},
   "outputs": [
    {
     "data": {
      "image/png": "[encoded data removed]",
      "text/plain": [
       "<Figure size 432x288 with 1 Axes>"
      ]
     },
     "metadata": {
      "needs_background": "light"
     },
     "output_type": "display_data"
    }
   ],
   "source": [
    "main()"
   ]
  },
  {
   "cell_type": "markdown",
   "metadata": {},
   "source": [
    "# 调用sklearn.linear_model的Perceptron模块"
   ]
  },
  {
   "cell_type": "code",
   "execution_count": 52,
   "metadata": {},
   "outputs": [
    {
     "name": "stdout",
     "output_type": "stream",
     "text": [
      "w: [[1. 0.]] \n",
      " b: [-2.] \n",
      " n_iter: 9\n",
      "correct_rate:100%\n"
     ]
    }
   ],
   "source": [
    "from sklearn.linear_model import Perceptron\n",
    "import numpy as np\n",
    "\n",
    "X_train = np.array([[3, 3], [4, 3], [1, 1]])\n",
    "y_train = np.array([1, 1, -1])                           #构建训练数据集\n",
    "\n",
    "perceptron = Perceptron(max_iter=1000, tol=1e-3)\n",
    "perceptron.fit(X_train, y_train)\n",
    "print('w:', perceptron.coef_, '\\n', 'b:', perceptron.intercept_, '\\n', 'n_iter:', perceptron.n_iter_)\n",
    "#构建Perceptron对象，训练数据并输出结果\n",
    "\n",
    "res = perceptron.score(X_train, y_train)\n",
    "print('correct_rate:{:.0%}'.format(res))               #测试模型预测的准确率"
   ]
  },
  {
   "cell_type": "markdown",
   "metadata": {},
   "source": [
    "### Perceptron（）里可以加max_iter迭代次数，\n",
    "### tol终止条件（先前损失函数值-现在损失函数值< tol），\n",
    "### eta0学习率（默认1）取值在（0，1]\n",
    "### penalty正则化项，防止过拟合，默认None，可以是“l2”，“l1”，“elasticnet（混合）”\n",
    "####   l1使特征值更稀疏， l2使权值更均匀\n",
    "### alpha正则化系数，默认0.0001\n",
    "\n",
    "### eg: perceptron = Perceptron(penalty=\"l2\", alpha=0.0002, eta0=0.8, max_iter=100, tol=1e-3)"
   ]
  },
  {
   "cell_type": "code",
   "execution_count": null,
   "metadata": {},
   "outputs": [],
   "source": []
  }
 ],
 "metadata": {
  "kernelspec": {
   "display_name": "Python 3",
   "language": "python",
   "name": "python3"
  },
  "language_info": {
   "codemirror_mode": {
    "name": "ipython",
    "version": 3
   },
   "file_extension": ".py",
   "mimetype": "text/x-python",
   "name": "python",
   "nbconvert_exporter": "python",
   "pygments_lexer": "ipython3",
   "version": "3.7.6"
  }
 },
 "nbformat": 4,
 "nbformat_minor": 4
}
